{
 "cells": [
  {
   "cell_type": "markdown",
   "id": "6cead22f-1bf0-4886-b442-af277ec649f3",
   "metadata": {},
   "source": [
    "# Исследование надежности заёмщиков"
   ]
  },
  {
   "cell_type": "markdown",
   "id": "46dbd810-df0c-450c-a023-229fe1d04b8b",
   "metadata": {},
   "source": [
    "**Цель проекта** - проверить, влияет ли семейное положение и количество детей клиента на погашение кредита, и построить систему, которая оценивает способность потенциального заёмщика вернуть кредит."
   ]
  },
  {
   "cell_type": "markdown",
   "id": "9c57c20d-2f50-4816-a07b-4cb3b599fe98",
   "metadata": {},
   "source": [
    "**Ход исследования**:\n",
    "1. Обзор данных\n",
    "2. Предобработка данных\n",
    "3. Анализ полученных результатов"
   ]
  },
  {
   "cell_type": "markdown",
   "id": "8b4d8a97-acee-46ff-b18e-581d9ec956bb",
   "metadata": {},
   "source": [
    "# 1. Обзор данных"
   ]
  },
  {
   "cell_type": "markdown",
   "id": "b1ee493d-96a1-4ec6-baa8-0902b425de4e",
   "metadata": {},
   "source": [
    " Составим первое представление о имеющихся данных, воспользовавшись библиотекой `pandas`."
   ]
  },
  {
   "cell_type": "code",
   "execution_count": 1,
   "id": "69d5e89f-d074-4193-8a15-421eb235b423",
   "metadata": {},
   "outputs": [],
   "source": [
    "import pandas as pd\n",
    "import numpy as np # в дальнейшем потребуется заменить значения столбца на NaN, поэтому импортируем библиотеку numpy"
   ]
  },
  {
   "cell_type": "code",
   "execution_count": 2,
   "id": "b6510d41-3bd6-40a1-972d-c4a66d9ed86e",
   "metadata": {},
   "outputs": [],
   "source": [
    "df = pd.read_csv('data.csv')"
   ]
  },
  {
   "cell_type": "code",
   "execution_count": 3,
   "id": "22747173-a130-4f5b-b030-fd32328fb338",
   "metadata": {},
   "outputs": [
    {
     "data": {
      "text/html": [
       "<div>\n",
       "<style scoped>\n",
       "    .dataframe tbody tr th:only-of-type {\n",
       "        vertical-align: middle;\n",
       "    }\n",
       "\n",
       "    .dataframe tbody tr th {\n",
       "        vertical-align: top;\n",
       "    }\n",
       "\n",
       "    .dataframe thead th {\n",
       "        text-align: right;\n",
       "    }\n",
       "</style>\n",
       "<table border=\"1\" class=\"dataframe\">\n",
       "  <thead>\n",
       "    <tr style=\"text-align: right;\">\n",
       "      <th></th>\n",
       "      <th>children</th>\n",
       "      <th>days_employed</th>\n",
       "      <th>dob_years</th>\n",
       "      <th>education</th>\n",
       "      <th>education_id</th>\n",
       "      <th>family_status</th>\n",
       "      <th>family_status_id</th>\n",
       "      <th>gender</th>\n",
       "      <th>income_type</th>\n",
       "      <th>debt</th>\n",
       "      <th>total_income</th>\n",
       "      <th>purpose</th>\n",
       "    </tr>\n",
       "  </thead>\n",
       "  <tbody>\n",
       "    <tr>\n",
       "      <th>0</th>\n",
       "      <td>1</td>\n",
       "      <td>-8437.673028</td>\n",
       "      <td>42</td>\n",
       "      <td>высшее</td>\n",
       "      <td>0</td>\n",
       "      <td>женат / замужем</td>\n",
       "      <td>0</td>\n",
       "      <td>F</td>\n",
       "      <td>сотрудник</td>\n",
       "      <td>0</td>\n",
       "      <td>253875.639453</td>\n",
       "      <td>покупка жилья</td>\n",
       "    </tr>\n",
       "    <tr>\n",
       "      <th>1</th>\n",
       "      <td>1</td>\n",
       "      <td>-4024.803754</td>\n",
       "      <td>36</td>\n",
       "      <td>среднее</td>\n",
       "      <td>1</td>\n",
       "      <td>женат / замужем</td>\n",
       "      <td>0</td>\n",
       "      <td>F</td>\n",
       "      <td>сотрудник</td>\n",
       "      <td>0</td>\n",
       "      <td>112080.014102</td>\n",
       "      <td>приобретение автомобиля</td>\n",
       "    </tr>\n",
       "    <tr>\n",
       "      <th>2</th>\n",
       "      <td>0</td>\n",
       "      <td>-5623.422610</td>\n",
       "      <td>33</td>\n",
       "      <td>Среднее</td>\n",
       "      <td>1</td>\n",
       "      <td>женат / замужем</td>\n",
       "      <td>0</td>\n",
       "      <td>M</td>\n",
       "      <td>сотрудник</td>\n",
       "      <td>0</td>\n",
       "      <td>145885.952297</td>\n",
       "      <td>покупка жилья</td>\n",
       "    </tr>\n",
       "  </tbody>\n",
       "</table>\n",
       "</div>"
      ],
      "text/plain": [
       "   children  days_employed  dob_years education  education_id  \\\n",
       "0         1   -8437.673028         42    высшее             0   \n",
       "1         1   -4024.803754         36   среднее             1   \n",
       "2         0   -5623.422610         33   Среднее             1   \n",
       "\n",
       "     family_status  family_status_id gender income_type  debt   total_income  \\\n",
       "0  женат / замужем                 0      F   сотрудник     0  253875.639453   \n",
       "1  женат / замужем                 0      F   сотрудник     0  112080.014102   \n",
       "2  женат / замужем                 0      M   сотрудник     0  145885.952297   \n",
       "\n",
       "                   purpose  \n",
       "0            покупка жилья  \n",
       "1  приобретение автомобиля  \n",
       "2            покупка жилья  "
      ]
     },
     "execution_count": 3,
     "metadata": {},
     "output_type": "execute_result"
    }
   ],
   "source": [
    "df.head(3)"
   ]
  },
  {
   "cell_type": "code",
   "execution_count": 4,
   "id": "df8aee70-c087-434d-892b-c8f08dd6d8b2",
   "metadata": {},
   "outputs": [
    {
     "name": "stdout",
     "output_type": "stream",
     "text": [
      "<class 'pandas.core.frame.DataFrame'>\n",
      "RangeIndex: 21525 entries, 0 to 21524\n",
      "Data columns (total 12 columns):\n",
      " #   Column            Non-Null Count  Dtype  \n",
      "---  ------            --------------  -----  \n",
      " 0   children          21525 non-null  int64  \n",
      " 1   days_employed     19351 non-null  float64\n",
      " 2   dob_years         21525 non-null  int64  \n",
      " 3   education         21525 non-null  object \n",
      " 4   education_id      21525 non-null  int64  \n",
      " 5   family_status     21525 non-null  object \n",
      " 6   family_status_id  21525 non-null  int64  \n",
      " 7   gender            21525 non-null  object \n",
      " 8   income_type       21525 non-null  object \n",
      " 9   debt              21525 non-null  int64  \n",
      " 10  total_income      19351 non-null  float64\n",
      " 11  purpose           21525 non-null  object \n",
      "dtypes: float64(2), int64(5), object(5)\n",
      "memory usage: 2.0+ MB\n"
     ]
    }
   ],
   "source": [
    "df.info()"
   ]
  },
  {
   "cell_type": "markdown",
   "id": "2ecf6643-4142-41e9-ba41-1fdc1a1b88eb",
   "metadata": {},
   "source": [
    "Согласно документации: \n",
    "\n",
    "- children — количество детей в семье\n",
    "- days_employed — общий трудовой стаж в днях\n",
    "- dob_years — возраст клиента в годах\n",
    "- education — уровень образования клиента\n",
    "- education_id — идентификатор уровня образования\n",
    "- family_status — семейное положение\n",
    "- family_status_id — идентификатор семейного положения\n",
    "- gender — пол клиента\n",
    "- income_type — тип занятости\n",
    "- debt — имел ли задолженность по возврату кредитов\n",
    "- total_income — ежемесячный доход\n",
    "- purpose — цель получения кредита\n",
    "\n",
    "Заметим, что в столбцах `days_employed` и `total_income` имеется большое количество пропусков, причём их количество в обоих столбцах равное. Причиной такого \"синхронного\" количества пропусков могло стать некорректное заполнение значений у безработных - значения `days_employed` и `total_income` в таком случае могли попросту не заполняться.\n",
    "\n",
    "Чтобы смягчить влияние пропусков на анализ, на втором этапе исследования заполним их медианными значениями. Такое избавление от пропусков \"усреднит\" данные, из-за чего риск возникновения недействительных \"перепадов\" станет значительно меньше.\n",
    "\n",
    "Найдём долю пропущенных значений в столбцах, чтобы оценить уровень влияния пропусков на последующий анализ."
   ]
  },
  {
   "cell_type": "code",
   "execution_count": 5,
   "id": "309ef9fd-da65-4e13-b912-d4f883f12ad1",
   "metadata": {},
   "outputs": [
    {
     "name": "stdout",
     "output_type": "stream",
     "text": [
      "Доля пропущенных значений в столбце days_employed составляет: 0.1010\n"
     ]
    }
   ],
   "source": [
    "print('Доля пропущенных значений в столбце days_employed составляет:', \n",
    "      format(df.days_employed.isna().sum() / df.days_employed.shape[0], '.4f'))"
   ]
  },
  {
   "cell_type": "code",
   "execution_count": 6,
   "id": "9b76bb2c-680f-4053-86c4-fc49142b8531",
   "metadata": {},
   "outputs": [
    {
     "name": "stdout",
     "output_type": "stream",
     "text": [
      "Доля пропущенных значений в столбце total_income составляет: 0.1010\n"
     ]
    }
   ],
   "source": [
    "print('Доля пропущенных значений в столбце total_income составляет:', \n",
    "      format(df['total_income'].isna().sum() / df['total_income'].shape[0], '.4f'))"
   ]
  },
  {
   "cell_type": "markdown",
   "id": "5c067330-f0ba-4143-b287-d50efb486353",
   "metadata": {},
   "source": [
    "# 2. Предобработка данных"
   ]
  },
  {
   "cell_type": "markdown",
   "id": "0e33298a-03c9-4409-b4aa-d48bc0e150a8",
   "metadata": {},
   "source": [
    "Видим, что доля пропущенных значений в двух столбцах составляет около 10%, что для нас неприемлемо.\n",
    "Начнём предобработку данных с заполнения пропусков в столбце `total_income` медианными значениями."
   ]
  },
  {
   "cell_type": "code",
   "execution_count": 7,
   "id": "82003431-a59c-4b24-b014-579c2c94e76e",
   "metadata": {},
   "outputs": [],
   "source": [
    "df['total_income'] = df['total_income'].fillna(df['total_income'].median())"
   ]
  },
  {
   "cell_type": "markdown",
   "id": "b59b9bd0-200f-42c7-8175-a32bea6b340b",
   "metadata": {},
   "source": [
    "Проверим успешность выполнения команды:"
   ]
  },
  {
   "cell_type": "code",
   "execution_count": 8,
   "id": "17b32364-063a-4191-97a2-b96ced520348",
   "metadata": {},
   "outputs": [
    {
     "name": "stdout",
     "output_type": "stream",
     "text": [
      "<class 'pandas.core.frame.DataFrame'>\n",
      "RangeIndex: 21525 entries, 0 to 21524\n",
      "Data columns (total 12 columns):\n",
      " #   Column            Non-Null Count  Dtype  \n",
      "---  ------            --------------  -----  \n",
      " 0   children          21525 non-null  int64  \n",
      " 1   days_employed     19351 non-null  float64\n",
      " 2   dob_years         21525 non-null  int64  \n",
      " 3   education         21525 non-null  object \n",
      " 4   education_id      21525 non-null  int64  \n",
      " 5   family_status     21525 non-null  object \n",
      " 6   family_status_id  21525 non-null  int64  \n",
      " 7   gender            21525 non-null  object \n",
      " 8   income_type       21525 non-null  object \n",
      " 9   debt              21525 non-null  int64  \n",
      " 10  total_income      21525 non-null  float64\n",
      " 11  purpose           21525 non-null  object \n",
      "dtypes: float64(2), int64(5), object(5)\n",
      "memory usage: 2.0+ MB\n"
     ]
    }
   ],
   "source": [
    "df.info()"
   ]
  },
  {
   "cell_type": "markdown",
   "id": "ecbe4b13-3a3b-42ff-a58c-01d6f227f48b",
   "metadata": {},
   "source": [
    "Как видим, пропущенных значений в столбце `total_income` больше нет.\n",
    "\n",
    "На стадии обзора данных можно было заметить, что значения столбца `days_employed` реверсированы - значения количества дней являются отрицательными. Проверим это, вызвав первые 10 значений данного столбца, а также выведем уникальные значения столбца `children`, чтобы проверить, имеется ли в нём такая же проблема:"
   ]
  },
  {
   "cell_type": "code",
   "execution_count": 9,
   "id": "ae3b5db6-0e2b-46b9-810a-f03b1d42279c",
   "metadata": {},
   "outputs": [
    {
     "data": {
      "text/plain": [
       "0     -8437.673028\n",
       "1     -4024.803754\n",
       "2     -5623.422610\n",
       "3     -4124.747207\n",
       "4    340266.072047\n",
       "5      -926.185831\n",
       "6     -2879.202052\n",
       "7      -152.779569\n",
       "8     -6929.865299\n",
       "9     -2188.756445\n",
       "Name: days_employed, dtype: float64"
      ]
     },
     "metadata": {},
     "output_type": "display_data"
    },
    {
     "data": {
      "text/plain": [
       "array([ 1,  0,  3,  2, -1,  4, 20,  5], dtype=int64)"
      ]
     },
     "execution_count": 9,
     "metadata": {},
     "output_type": "execute_result"
    }
   ],
   "source": [
    "display(df['days_employed'].head(10))\n",
    "df['children'].unique()"
   ]
  },
  {
   "cell_type": "markdown",
   "id": "52129d45-8010-48bf-ab31-2fc2be0163bb",
   "metadata": {},
   "source": [
    "Действительно, почти все значения среди первых 10 в столбце `days_employed` - отрицательные, а одно из значений - слишком большое. \n",
    "\n",
    "В столбце `children`, помимо отрицательных значений, есть также одно аномальное значение - 20 детей. Это явная ошибка данных, которую стоит исправить.\n",
    "\n",
    "Напишем функцию, которая будет принимать значение из столбца и изменять его знак в том случае, если значени отрицательное. Сделаем блок `try-except` для возможных ошибок."
   ]
  },
  {
   "cell_type": "code",
   "execution_count": 10,
   "id": "bfcb3bcc-beed-41b6-a4a8-5cda42f65460",
   "metadata": {},
   "outputs": [],
   "source": [
    "def change_sign(days):\n",
    "    try:\n",
    "        if days < 0:\n",
    "            return days * -1\n",
    "        else:\n",
    "            return days\n",
    "    except:\n",
    "        print('Некорректное значение пропущено')"
   ]
  },
  {
   "cell_type": "markdown",
   "id": "5037c491-9dd7-47c5-a870-442f3ae05700",
   "metadata": {},
   "source": [
    "Применим эту функцию ко всем значениям столбца `days_employed` с помощью метода `apply()`:"
   ]
  },
  {
   "cell_type": "code",
   "execution_count": 11,
   "id": "89a0540c-b3ac-415b-afe9-99f1c822f8d1",
   "metadata": {},
   "outputs": [],
   "source": [
    "df.days_employed = df.days_employed.apply(change_sign)"
   ]
  },
  {
   "cell_type": "markdown",
   "id": "87f45cad-ca69-4eb7-8178-7edd1034fabb",
   "metadata": {},
   "source": [
    "Для аномальных значений воспользуемся методом `replace()` и заменой значения посредством логической индексации. Заменять аномальные значения будем на медианные."
   ]
  },
  {
   "cell_type": "code",
   "execution_count": 12,
   "id": "284330ef-0c0e-4145-addd-9fda6252aff7",
   "metadata": {},
   "outputs": [],
   "source": [
    "df['children'] = df['children'].replace({-1: 1, 20: df['children'].median()})\n",
    "df.loc[df['days_employed'] > 30000, 'days_employed'] = np.nan # заменим аномальные значения на NaN, чтобы они не исказили медианное значение\n",
    "df['days_employed'] = df['days_employed'].fillna(df['days_employed'].median())"
   ]
  },
  {
   "cell_type": "markdown",
   "id": "09cbd91b-4fa5-4ec2-bfeb-f065fa0d45d8",
   "metadata": {},
   "source": [
    "Проверим успешность замены некорректных значений:"
   ]
  },
  {
   "cell_type": "code",
   "execution_count": 13,
   "id": "90643728-ad6d-466d-9cd4-5699b5d9ce2f",
   "metadata": {},
   "outputs": [
    {
     "data": {
      "text/html": [
       "<div>\n",
       "<style scoped>\n",
       "    .dataframe tbody tr th:only-of-type {\n",
       "        vertical-align: middle;\n",
       "    }\n",
       "\n",
       "    .dataframe tbody tr th {\n",
       "        vertical-align: top;\n",
       "    }\n",
       "\n",
       "    .dataframe thead th {\n",
       "        text-align: right;\n",
       "    }\n",
       "</style>\n",
       "<table border=\"1\" class=\"dataframe\">\n",
       "  <thead>\n",
       "    <tr style=\"text-align: right;\">\n",
       "      <th></th>\n",
       "      <th>children</th>\n",
       "      <th>days_employed</th>\n",
       "      <th>dob_years</th>\n",
       "      <th>education</th>\n",
       "      <th>education_id</th>\n",
       "      <th>family_status</th>\n",
       "      <th>family_status_id</th>\n",
       "      <th>gender</th>\n",
       "      <th>income_type</th>\n",
       "      <th>debt</th>\n",
       "      <th>total_income</th>\n",
       "      <th>purpose</th>\n",
       "    </tr>\n",
       "  </thead>\n",
       "  <tbody>\n",
       "    <tr>\n",
       "      <th>0</th>\n",
       "      <td>1</td>\n",
       "      <td>8437.673028</td>\n",
       "      <td>42</td>\n",
       "      <td>высшее</td>\n",
       "      <td>0</td>\n",
       "      <td>женат / замужем</td>\n",
       "      <td>0</td>\n",
       "      <td>F</td>\n",
       "      <td>сотрудник</td>\n",
       "      <td>0</td>\n",
       "      <td>253875.639453</td>\n",
       "      <td>покупка жилья</td>\n",
       "    </tr>\n",
       "    <tr>\n",
       "      <th>1</th>\n",
       "      <td>1</td>\n",
       "      <td>4024.803754</td>\n",
       "      <td>36</td>\n",
       "      <td>среднее</td>\n",
       "      <td>1</td>\n",
       "      <td>женат / замужем</td>\n",
       "      <td>0</td>\n",
       "      <td>F</td>\n",
       "      <td>сотрудник</td>\n",
       "      <td>0</td>\n",
       "      <td>112080.014102</td>\n",
       "      <td>приобретение автомобиля</td>\n",
       "    </tr>\n",
       "    <tr>\n",
       "      <th>2</th>\n",
       "      <td>0</td>\n",
       "      <td>5623.422610</td>\n",
       "      <td>33</td>\n",
       "      <td>Среднее</td>\n",
       "      <td>1</td>\n",
       "      <td>женат / замужем</td>\n",
       "      <td>0</td>\n",
       "      <td>M</td>\n",
       "      <td>сотрудник</td>\n",
       "      <td>0</td>\n",
       "      <td>145885.952297</td>\n",
       "      <td>покупка жилья</td>\n",
       "    </tr>\n",
       "    <tr>\n",
       "      <th>3</th>\n",
       "      <td>3</td>\n",
       "      <td>4124.747207</td>\n",
       "      <td>32</td>\n",
       "      <td>среднее</td>\n",
       "      <td>1</td>\n",
       "      <td>женат / замужем</td>\n",
       "      <td>0</td>\n",
       "      <td>M</td>\n",
       "      <td>сотрудник</td>\n",
       "      <td>0</td>\n",
       "      <td>267628.550329</td>\n",
       "      <td>дополнительное образование</td>\n",
       "    </tr>\n",
       "    <tr>\n",
       "      <th>4</th>\n",
       "      <td>0</td>\n",
       "      <td>1630.019381</td>\n",
       "      <td>53</td>\n",
       "      <td>среднее</td>\n",
       "      <td>1</td>\n",
       "      <td>гражданский брак</td>\n",
       "      <td>1</td>\n",
       "      <td>F</td>\n",
       "      <td>пенсионер</td>\n",
       "      <td>0</td>\n",
       "      <td>158616.077870</td>\n",
       "      <td>сыграть свадьбу</td>\n",
       "    </tr>\n",
       "  </tbody>\n",
       "</table>\n",
       "</div>"
      ],
      "text/plain": [
       "   children  days_employed  dob_years education  education_id  \\\n",
       "0         1    8437.673028         42    высшее             0   \n",
       "1         1    4024.803754         36   среднее             1   \n",
       "2         0    5623.422610         33   Среднее             1   \n",
       "3         3    4124.747207         32   среднее             1   \n",
       "4         0    1630.019381         53   среднее             1   \n",
       "\n",
       "      family_status  family_status_id gender income_type  debt   total_income  \\\n",
       "0   женат / замужем                 0      F   сотрудник     0  253875.639453   \n",
       "1   женат / замужем                 0      F   сотрудник     0  112080.014102   \n",
       "2   женат / замужем                 0      M   сотрудник     0  145885.952297   \n",
       "3   женат / замужем                 0      M   сотрудник     0  267628.550329   \n",
       "4  гражданский брак                 1      F   пенсионер     0  158616.077870   \n",
       "\n",
       "                      purpose  \n",
       "0               покупка жилья  \n",
       "1     приобретение автомобиля  \n",
       "2               покупка жилья  \n",
       "3  дополнительное образование  \n",
       "4             сыграть свадьбу  "
      ]
     },
     "metadata": {},
     "output_type": "display_data"
    },
    {
     "data": {
      "text/plain": [
       "array([1, 0, 3, 2, 4, 5], dtype=int64)"
      ]
     },
     "execution_count": 13,
     "metadata": {},
     "output_type": "execute_result"
    }
   ],
   "source": [
    "display(df.head(5))\n",
    "df['children'].unique()"
   ]
  },
  {
   "cell_type": "markdown",
   "id": "58e9fb29-6b8f-4aea-8597-929a28b9c85e",
   "metadata": {},
   "source": [
    "Все значения теперь имеют правильный знак, а аномальные заменены на медианные. Движемся далее.\n",
    "\n",
    "В столбце `days_employed` оставались пропуски - проверим успешность их заполнения:"
   ]
  },
  {
   "cell_type": "code",
   "execution_count": 14,
   "id": "6305df5f-269b-4dd9-9d87-897391b6ef4e",
   "metadata": {},
   "outputs": [
    {
     "name": "stdout",
     "output_type": "stream",
     "text": [
      "<class 'pandas.core.frame.DataFrame'>\n",
      "RangeIndex: 21525 entries, 0 to 21524\n",
      "Data columns (total 12 columns):\n",
      " #   Column            Non-Null Count  Dtype  \n",
      "---  ------            --------------  -----  \n",
      " 0   children          21525 non-null  int64  \n",
      " 1   days_employed     21525 non-null  float64\n",
      " 2   dob_years         21525 non-null  int64  \n",
      " 3   education         21525 non-null  object \n",
      " 4   education_id      21525 non-null  int64  \n",
      " 5   family_status     21525 non-null  object \n",
      " 6   family_status_id  21525 non-null  int64  \n",
      " 7   gender            21525 non-null  object \n",
      " 8   income_type       21525 non-null  object \n",
      " 9   debt              21525 non-null  int64  \n",
      " 10  total_income      21525 non-null  float64\n",
      " 11  purpose           21525 non-null  object \n",
      "dtypes: float64(2), int64(5), object(5)\n",
      "memory usage: 2.0+ MB\n"
     ]
    }
   ],
   "source": [
    "df.info()"
   ]
  },
  {
   "cell_type": "markdown",
   "id": "5f8392ea-a82a-4bd1-ad34-66cb4eb3dd4a",
   "metadata": {},
   "source": [
    "Все пропуски успешно заполнены.\n",
    "\n",
    "Приведём все значения столбца `total_income` к целочисленному `int`, чтобы было удобнее с ними работать:"
   ]
  },
  {
   "cell_type": "code",
   "execution_count": 15,
   "id": "dfaec5e2-6de0-4daa-850f-2c3d7c699e25",
   "metadata": {},
   "outputs": [],
   "source": [
    "df['total_income'] = df['total_income'].astype('int')"
   ]
  },
  {
   "cell_type": "code",
   "execution_count": 16,
   "id": "e07fe26f-0a18-4b2f-8fbe-cfba7d848ff3",
   "metadata": {},
   "outputs": [
    {
     "data": {
      "text/html": [
       "<div>\n",
       "<style scoped>\n",
       "    .dataframe tbody tr th:only-of-type {\n",
       "        vertical-align: middle;\n",
       "    }\n",
       "\n",
       "    .dataframe tbody tr th {\n",
       "        vertical-align: top;\n",
       "    }\n",
       "\n",
       "    .dataframe thead th {\n",
       "        text-align: right;\n",
       "    }\n",
       "</style>\n",
       "<table border=\"1\" class=\"dataframe\">\n",
       "  <thead>\n",
       "    <tr style=\"text-align: right;\">\n",
       "      <th></th>\n",
       "      <th>children</th>\n",
       "      <th>days_employed</th>\n",
       "      <th>dob_years</th>\n",
       "      <th>education</th>\n",
       "      <th>education_id</th>\n",
       "      <th>family_status</th>\n",
       "      <th>family_status_id</th>\n",
       "      <th>gender</th>\n",
       "      <th>income_type</th>\n",
       "      <th>debt</th>\n",
       "      <th>total_income</th>\n",
       "      <th>purpose</th>\n",
       "    </tr>\n",
       "  </thead>\n",
       "  <tbody>\n",
       "    <tr>\n",
       "      <th>0</th>\n",
       "      <td>1</td>\n",
       "      <td>8437.673028</td>\n",
       "      <td>42</td>\n",
       "      <td>высшее</td>\n",
       "      <td>0</td>\n",
       "      <td>женат / замужем</td>\n",
       "      <td>0</td>\n",
       "      <td>F</td>\n",
       "      <td>сотрудник</td>\n",
       "      <td>0</td>\n",
       "      <td>253875</td>\n",
       "      <td>покупка жилья</td>\n",
       "    </tr>\n",
       "    <tr>\n",
       "      <th>1</th>\n",
       "      <td>1</td>\n",
       "      <td>4024.803754</td>\n",
       "      <td>36</td>\n",
       "      <td>среднее</td>\n",
       "      <td>1</td>\n",
       "      <td>женат / замужем</td>\n",
       "      <td>0</td>\n",
       "      <td>F</td>\n",
       "      <td>сотрудник</td>\n",
       "      <td>0</td>\n",
       "      <td>112080</td>\n",
       "      <td>приобретение автомобиля</td>\n",
       "    </tr>\n",
       "    <tr>\n",
       "      <th>2</th>\n",
       "      <td>0</td>\n",
       "      <td>5623.422610</td>\n",
       "      <td>33</td>\n",
       "      <td>Среднее</td>\n",
       "      <td>1</td>\n",
       "      <td>женат / замужем</td>\n",
       "      <td>0</td>\n",
       "      <td>M</td>\n",
       "      <td>сотрудник</td>\n",
       "      <td>0</td>\n",
       "      <td>145885</td>\n",
       "      <td>покупка жилья</td>\n",
       "    </tr>\n",
       "    <tr>\n",
       "      <th>3</th>\n",
       "      <td>3</td>\n",
       "      <td>4124.747207</td>\n",
       "      <td>32</td>\n",
       "      <td>среднее</td>\n",
       "      <td>1</td>\n",
       "      <td>женат / замужем</td>\n",
       "      <td>0</td>\n",
       "      <td>M</td>\n",
       "      <td>сотрудник</td>\n",
       "      <td>0</td>\n",
       "      <td>267628</td>\n",
       "      <td>дополнительное образование</td>\n",
       "    </tr>\n",
       "    <tr>\n",
       "      <th>4</th>\n",
       "      <td>0</td>\n",
       "      <td>1630.019381</td>\n",
       "      <td>53</td>\n",
       "      <td>среднее</td>\n",
       "      <td>1</td>\n",
       "      <td>гражданский брак</td>\n",
       "      <td>1</td>\n",
       "      <td>F</td>\n",
       "      <td>пенсионер</td>\n",
       "      <td>0</td>\n",
       "      <td>158616</td>\n",
       "      <td>сыграть свадьбу</td>\n",
       "    </tr>\n",
       "  </tbody>\n",
       "</table>\n",
       "</div>"
      ],
      "text/plain": [
       "   children  days_employed  dob_years education  education_id  \\\n",
       "0         1    8437.673028         42    высшее             0   \n",
       "1         1    4024.803754         36   среднее             1   \n",
       "2         0    5623.422610         33   Среднее             1   \n",
       "3         3    4124.747207         32   среднее             1   \n",
       "4         0    1630.019381         53   среднее             1   \n",
       "\n",
       "      family_status  family_status_id gender income_type  debt  total_income  \\\n",
       "0   женат / замужем                 0      F   сотрудник     0        253875   \n",
       "1   женат / замужем                 0      F   сотрудник     0        112080   \n",
       "2   женат / замужем                 0      M   сотрудник     0        145885   \n",
       "3   женат / замужем                 0      M   сотрудник     0        267628   \n",
       "4  гражданский брак                 1      F   пенсионер     0        158616   \n",
       "\n",
       "                      purpose  \n",
       "0               покупка жилья  \n",
       "1     приобретение автомобиля  \n",
       "2               покупка жилья  \n",
       "3  дополнительное образование  \n",
       "4             сыграть свадьбу  "
      ]
     },
     "execution_count": 16,
     "metadata": {},
     "output_type": "execute_result"
    }
   ],
   "source": [
    "df.head(5)"
   ]
  },
  {
   "cell_type": "markdown",
   "id": "2b15a3fd-5dc0-47d6-ac7a-ed443fd6e5d5",
   "metadata": {},
   "source": [
    "Прежде, чем продолжать исследование, проверим таблицу на наличие дубликатов:"
   ]
  },
  {
   "cell_type": "code",
   "execution_count": 17,
   "id": "b1b56320-0d9a-4d54-964b-ca8bc7b34f5d",
   "metadata": {},
   "outputs": [
    {
     "data": {
      "text/plain": [
       "54"
      ]
     },
     "execution_count": 17,
     "metadata": {},
     "output_type": "execute_result"
    }
   ],
   "source": [
    "df.duplicated().sum()"
   ]
  },
  {
   "cell_type": "markdown",
   "id": "ef26a544-ec7e-45c5-90ed-3c1cbf101327",
   "metadata": {},
   "source": [
    "В нашей таблице имеется 54 дубликата. Удалим их и перезапишем индексы таблицы:"
   ]
  },
  {
   "cell_type": "code",
   "execution_count": 18,
   "id": "4ee64330-53cb-4823-92cb-947f8a3a1cb8",
   "metadata": {},
   "outputs": [],
   "source": [
    "df = df.drop_duplicates().reset_index(drop=True)"
   ]
  },
  {
   "cell_type": "code",
   "execution_count": 19,
   "id": "4ef60cb1-2594-466a-a3c1-1bff41a8884d",
   "metadata": {},
   "outputs": [
    {
     "name": "stdout",
     "output_type": "stream",
     "text": [
      "<class 'pandas.core.frame.DataFrame'>\n",
      "RangeIndex: 21471 entries, 0 to 21470\n",
      "Data columns (total 12 columns):\n",
      " #   Column            Non-Null Count  Dtype  \n",
      "---  ------            --------------  -----  \n",
      " 0   children          21471 non-null  int64  \n",
      " 1   days_employed     21471 non-null  float64\n",
      " 2   dob_years         21471 non-null  int64  \n",
      " 3   education         21471 non-null  object \n",
      " 4   education_id      21471 non-null  int64  \n",
      " 5   family_status     21471 non-null  object \n",
      " 6   family_status_id  21471 non-null  int64  \n",
      " 7   gender            21471 non-null  object \n",
      " 8   income_type       21471 non-null  object \n",
      " 9   debt              21471 non-null  int64  \n",
      " 10  total_income      21471 non-null  int32  \n",
      " 11  purpose           21471 non-null  object \n",
      "dtypes: float64(1), int32(1), int64(5), object(5)\n",
      "memory usage: 1.9+ MB\n"
     ]
    }
   ],
   "source": [
    "df.info()"
   ]
  },
  {
   "cell_type": "markdown",
   "id": "b5ef4607-edb3-43d3-a369-c7f19658aefc",
   "metadata": {},
   "source": [
    "Как видим, удаление дубликатов прошло успешно.\n",
    "\n",
    "Проверим все уникальные значения столбцов `education` и `income_type` на наличие дубликатов:"
   ]
  },
  {
   "cell_type": "code",
   "execution_count": 20,
   "id": "c45fb1b5-53e7-44f2-aef2-a7485f8a3ddb",
   "metadata": {},
   "outputs": [
    {
     "name": "stdout",
     "output_type": "stream",
     "text": [
      "['высшее' 'среднее' 'Среднее' 'СРЕДНЕЕ' 'ВЫСШЕЕ' 'неоконченное высшее'\n",
      " 'начальное' 'Высшее' 'НЕОКОНЧЕННОЕ ВЫСШЕЕ' 'Неоконченное высшее'\n",
      " 'НАЧАЛЬНОЕ' 'Начальное' 'Ученая степень' 'УЧЕНАЯ СТЕПЕНЬ'\n",
      " 'ученая степень']\n",
      "['сотрудник' 'пенсионер' 'компаньон' 'госслужащий' 'безработный'\n",
      " 'предприниматель' 'студент' 'в декрете']\n"
     ]
    }
   ],
   "source": [
    "print(df['education'].unique())\n",
    "print(df['income_type'].unique())"
   ]
  },
  {
   "cell_type": "markdown",
   "id": "70228d14-eeda-4acb-8eb0-5c234054cba5",
   "metadata": {},
   "source": [
    "В столбце `income_type` дубликатов нет, а с `education` есть проблемы.\n",
    "\n",
    "Среди всех значений столбца `education` есть дубликаты, которые отличаются друг от друга лишь регистром. Исправим это, написав функцию, которая приведёт все значения столбца к нижнему регистру, и применив её к столбцу `education` при помощи метода `apply()`:"
   ]
  },
  {
   "cell_type": "code",
   "execution_count": 21,
   "id": "3e0a85b4-fd96-4ff2-b5ce-24cc581b68e8",
   "metadata": {},
   "outputs": [],
   "source": [
    "def to_lower(name):\n",
    "    try:\n",
    "        return name.lower()\n",
    "    except:\n",
    "        print('Некорректное значение пропущено')"
   ]
  },
  {
   "cell_type": "code",
   "execution_count": 22,
   "id": "a2844296-77c0-47a5-9630-427583241ca2",
   "metadata": {},
   "outputs": [],
   "source": [
    "df['education'] = df['education'].apply(to_lower)"
   ]
  },
  {
   "cell_type": "markdown",
   "id": "ae50f206-6cae-4bda-be41-61858ad49a08",
   "metadata": {},
   "source": [
    "Проверим работу метода:"
   ]
  },
  {
   "cell_type": "code",
   "execution_count": 23,
   "id": "23ce4609-bc7a-4f8c-b7e9-a888fba71c5c",
   "metadata": {},
   "outputs": [
    {
     "data": {
      "text/plain": [
       "array(['высшее', 'среднее', 'неоконченное высшее', 'начальное',\n",
       "       'ученая степень'], dtype=object)"
      ]
     },
     "execution_count": 23,
     "metadata": {},
     "output_type": "execute_result"
    }
   ],
   "source": [
    "df['education'].unique()"
   ]
  },
  {
   "cell_type": "markdown",
   "id": "8f094b19-acd2-4520-8137-3ad4e939c2fa",
   "metadata": {},
   "source": [
    "Теперь дубликаты отсутствуют. \n",
    "\n",
    "Поиск явных дубликатов производили при помощи метода `duplicated().sum()`, который искал дубликаты и суммировал их. Так как явных дубликатов было всего 54, было принято решение удалить их, ведь на данные анализа серьёзное влияние это не окажет.\n",
    "\n",
    "Неявные дубликаты наиболее вероятны в столбцах `education` и `income_type`, так как их значения - различные строки. В столбце `income_type` дубликатов не было, а в `education` оказались одни и те же значения, записанные разным регистром. Такие дубликаты могли возникнуть в результате отсутствия строгой инструкции при заполнении таблицы - разные сотрудники решали по разному записывать данные.\n",
    "\n",
    "Объединим в новую таблицу значения столбца `education` и их индексы - значения столбца `education_id`. Выведем первые несколько строк:"
   ]
  },
  {
   "cell_type": "code",
   "execution_count": 24,
   "id": "125f0346-9c31-4cf2-8d3a-8f1e24f633cd",
   "metadata": {},
   "outputs": [
    {
     "data": {
      "text/html": [
       "<div>\n",
       "<style scoped>\n",
       "    .dataframe tbody tr th:only-of-type {\n",
       "        vertical-align: middle;\n",
       "    }\n",
       "\n",
       "    .dataframe tbody tr th {\n",
       "        vertical-align: top;\n",
       "    }\n",
       "\n",
       "    .dataframe thead th {\n",
       "        text-align: right;\n",
       "    }\n",
       "</style>\n",
       "<table border=\"1\" class=\"dataframe\">\n",
       "  <thead>\n",
       "    <tr style=\"text-align: right;\">\n",
       "      <th></th>\n",
       "      <th>education</th>\n",
       "      <th>education_id</th>\n",
       "    </tr>\n",
       "  </thead>\n",
       "  <tbody>\n",
       "    <tr>\n",
       "      <th>0</th>\n",
       "      <td>высшее</td>\n",
       "      <td>0</td>\n",
       "    </tr>\n",
       "    <tr>\n",
       "      <th>1</th>\n",
       "      <td>среднее</td>\n",
       "      <td>1</td>\n",
       "    </tr>\n",
       "    <tr>\n",
       "      <th>2</th>\n",
       "      <td>среднее</td>\n",
       "      <td>1</td>\n",
       "    </tr>\n",
       "  </tbody>\n",
       "</table>\n",
       "</div>"
      ],
      "text/plain": [
       "  education  education_id\n",
       "0    высшее             0\n",
       "1   среднее             1\n",
       "2   среднее             1"
      ]
     },
     "execution_count": 24,
     "metadata": {},
     "output_type": "execute_result"
    }
   ],
   "source": [
    "education_df = df[['education', 'education_id']]\n",
    "education_df.head(3)"
   ]
  },
  {
   "cell_type": "markdown",
   "id": "521f818d-66ea-4e9c-b2da-c18b82c4ea69",
   "metadata": {},
   "source": [
    "Аналогично проделаем для столбцов `family_status` и `family_status_id`:"
   ]
  },
  {
   "cell_type": "code",
   "execution_count": 25,
   "id": "af788b23-2278-4ea9-a758-7e5ad4362d7c",
   "metadata": {},
   "outputs": [
    {
     "data": {
      "text/html": [
       "<div>\n",
       "<style scoped>\n",
       "    .dataframe tbody tr th:only-of-type {\n",
       "        vertical-align: middle;\n",
       "    }\n",
       "\n",
       "    .dataframe tbody tr th {\n",
       "        vertical-align: top;\n",
       "    }\n",
       "\n",
       "    .dataframe thead th {\n",
       "        text-align: right;\n",
       "    }\n",
       "</style>\n",
       "<table border=\"1\" class=\"dataframe\">\n",
       "  <thead>\n",
       "    <tr style=\"text-align: right;\">\n",
       "      <th></th>\n",
       "      <th>family_status</th>\n",
       "      <th>family_status_id</th>\n",
       "    </tr>\n",
       "  </thead>\n",
       "  <tbody>\n",
       "    <tr>\n",
       "      <th>0</th>\n",
       "      <td>женат / замужем</td>\n",
       "      <td>0</td>\n",
       "    </tr>\n",
       "    <tr>\n",
       "      <th>1</th>\n",
       "      <td>женат / замужем</td>\n",
       "      <td>0</td>\n",
       "    </tr>\n",
       "    <tr>\n",
       "      <th>2</th>\n",
       "      <td>женат / замужем</td>\n",
       "      <td>0</td>\n",
       "    </tr>\n",
       "    <tr>\n",
       "      <th>3</th>\n",
       "      <td>женат / замужем</td>\n",
       "      <td>0</td>\n",
       "    </tr>\n",
       "    <tr>\n",
       "      <th>4</th>\n",
       "      <td>гражданский брак</td>\n",
       "      <td>1</td>\n",
       "    </tr>\n",
       "  </tbody>\n",
       "</table>\n",
       "</div>"
      ],
      "text/plain": [
       "      family_status  family_status_id\n",
       "0   женат / замужем                 0\n",
       "1   женат / замужем                 0\n",
       "2   женат / замужем                 0\n",
       "3   женат / замужем                 0\n",
       "4  гражданский брак                 1"
      ]
     },
     "execution_count": 25,
     "metadata": {},
     "output_type": "execute_result"
    }
   ],
   "source": [
    "family_status_df = df[['family_status', 'family_status_id']]\n",
    "family_status_df.head(5)"
   ]
  },
  {
   "cell_type": "markdown",
   "id": "0ae4e387-2884-4aa4-8c29-5f7675c84609",
   "metadata": {},
   "source": [
    "Удалим из основной таблицы столбцы `education` и `family_status`, оставив лишь их индексы, чтобы сделать анализ более удобным:"
   ]
  },
  {
   "cell_type": "code",
   "execution_count": 26,
   "id": "23bbf8d5-b741-483e-9abd-e7f6f5db5940",
   "metadata": {},
   "outputs": [
    {
     "data": {
      "text/html": [
       "<div>\n",
       "<style scoped>\n",
       "    .dataframe tbody tr th:only-of-type {\n",
       "        vertical-align: middle;\n",
       "    }\n",
       "\n",
       "    .dataframe tbody tr th {\n",
       "        vertical-align: top;\n",
       "    }\n",
       "\n",
       "    .dataframe thead th {\n",
       "        text-align: right;\n",
       "    }\n",
       "</style>\n",
       "<table border=\"1\" class=\"dataframe\">\n",
       "  <thead>\n",
       "    <tr style=\"text-align: right;\">\n",
       "      <th></th>\n",
       "      <th>children</th>\n",
       "      <th>days_employed</th>\n",
       "      <th>dob_years</th>\n",
       "      <th>education_id</th>\n",
       "      <th>family_status_id</th>\n",
       "      <th>gender</th>\n",
       "      <th>income_type</th>\n",
       "      <th>debt</th>\n",
       "      <th>total_income</th>\n",
       "      <th>purpose</th>\n",
       "    </tr>\n",
       "  </thead>\n",
       "  <tbody>\n",
       "    <tr>\n",
       "      <th>0</th>\n",
       "      <td>1</td>\n",
       "      <td>8437.673028</td>\n",
       "      <td>42</td>\n",
       "      <td>0</td>\n",
       "      <td>0</td>\n",
       "      <td>F</td>\n",
       "      <td>сотрудник</td>\n",
       "      <td>0</td>\n",
       "      <td>253875</td>\n",
       "      <td>покупка жилья</td>\n",
       "    </tr>\n",
       "    <tr>\n",
       "      <th>1</th>\n",
       "      <td>1</td>\n",
       "      <td>4024.803754</td>\n",
       "      <td>36</td>\n",
       "      <td>1</td>\n",
       "      <td>0</td>\n",
       "      <td>F</td>\n",
       "      <td>сотрудник</td>\n",
       "      <td>0</td>\n",
       "      <td>112080</td>\n",
       "      <td>приобретение автомобиля</td>\n",
       "    </tr>\n",
       "    <tr>\n",
       "      <th>2</th>\n",
       "      <td>0</td>\n",
       "      <td>5623.422610</td>\n",
       "      <td>33</td>\n",
       "      <td>1</td>\n",
       "      <td>0</td>\n",
       "      <td>M</td>\n",
       "      <td>сотрудник</td>\n",
       "      <td>0</td>\n",
       "      <td>145885</td>\n",
       "      <td>покупка жилья</td>\n",
       "    </tr>\n",
       "    <tr>\n",
       "      <th>3</th>\n",
       "      <td>3</td>\n",
       "      <td>4124.747207</td>\n",
       "      <td>32</td>\n",
       "      <td>1</td>\n",
       "      <td>0</td>\n",
       "      <td>M</td>\n",
       "      <td>сотрудник</td>\n",
       "      <td>0</td>\n",
       "      <td>267628</td>\n",
       "      <td>дополнительное образование</td>\n",
       "    </tr>\n",
       "    <tr>\n",
       "      <th>4</th>\n",
       "      <td>0</td>\n",
       "      <td>1630.019381</td>\n",
       "      <td>53</td>\n",
       "      <td>1</td>\n",
       "      <td>1</td>\n",
       "      <td>F</td>\n",
       "      <td>пенсионер</td>\n",
       "      <td>0</td>\n",
       "      <td>158616</td>\n",
       "      <td>сыграть свадьбу</td>\n",
       "    </tr>\n",
       "  </tbody>\n",
       "</table>\n",
       "</div>"
      ],
      "text/plain": [
       "   children  days_employed  dob_years  education_id  family_status_id gender  \\\n",
       "0         1    8437.673028         42             0                 0      F   \n",
       "1         1    4024.803754         36             1                 0      F   \n",
       "2         0    5623.422610         33             1                 0      M   \n",
       "3         3    4124.747207         32             1                 0      M   \n",
       "4         0    1630.019381         53             1                 1      F   \n",
       "\n",
       "  income_type  debt  total_income                     purpose  \n",
       "0   сотрудник     0        253875               покупка жилья  \n",
       "1   сотрудник     0        112080     приобретение автомобиля  \n",
       "2   сотрудник     0        145885               покупка жилья  \n",
       "3   сотрудник     0        267628  дополнительное образование  \n",
       "4   пенсионер     0        158616             сыграть свадьбу  "
      ]
     },
     "execution_count": 26,
     "metadata": {},
     "output_type": "execute_result"
    }
   ],
   "source": [
    "df = df.drop(columns=['education', 'family_status'])\n",
    "df.head(5)"
   ]
  },
  {
   "cell_type": "markdown",
   "id": "a51ae4c5-69a7-4d7e-b831-b7bd596a6a96",
   "metadata": {},
   "source": [
    "Чтобы сгруппировать клиентов по размеру дохода, напишем функцию со следующим функционалом:\n",
    "- Если доход менее 30.001, то клиенту присваивается категория дохода \"E\"\n",
    "- Если доход менее 50.001, но более 30.000, то клиенту присваивается категория дохода \"D\"\n",
    "- Если доход менее 200.001, но более 50.000, то клиенту присваивается категория дохода \"C\"\n",
    "- Если доход менее 1.000.001, но более 200.000, то клиенту присваивается категория дохода \"B\"\n",
    "- Если доход более 1.000.000, то клиенту присваивается категория дохода \"A\"\n",
    "\n",
    "Применим её к столбцу `total_income`, создав новый столбец `total_income_category`:"
   ]
  },
  {
   "cell_type": "code",
   "execution_count": 27,
   "id": "3d5719f6-8fe5-4c89-bc6d-7cb3083a9605",
   "metadata": {},
   "outputs": [],
   "source": [
    "def set_income_category(income):\n",
    "    try:\n",
    "        if income < 30001:\n",
    "            return 'E'\n",
    "        elif (income > 30000) & (income < 50001):\n",
    "            return 'D'\n",
    "        elif (income > 50000) & (income < 200001):\n",
    "            return 'C'\n",
    "        elif (income > 200000) & (income < 1000001):\n",
    "            return 'B'\n",
    "        elif income > 1000000:\n",
    "            return 'A'\n",
    "    except:\n",
    "        print('Некорректное значение пропущено')"
   ]
  },
  {
   "cell_type": "code",
   "execution_count": 28,
   "id": "b9490a3e-0adc-4681-bd3c-867d175bc247",
   "metadata": {},
   "outputs": [],
   "source": [
    "df['total_income_category'] = df['total_income'].apply(set_income_category)"
   ]
  },
  {
   "cell_type": "code",
   "execution_count": 29,
   "id": "f515eb78-8c48-49d5-a516-e98b30018b02",
   "metadata": {},
   "outputs": [
    {
     "data": {
      "text/html": [
       "<div>\n",
       "<style scoped>\n",
       "    .dataframe tbody tr th:only-of-type {\n",
       "        vertical-align: middle;\n",
       "    }\n",
       "\n",
       "    .dataframe tbody tr th {\n",
       "        vertical-align: top;\n",
       "    }\n",
       "\n",
       "    .dataframe thead th {\n",
       "        text-align: right;\n",
       "    }\n",
       "</style>\n",
       "<table border=\"1\" class=\"dataframe\">\n",
       "  <thead>\n",
       "    <tr style=\"text-align: right;\">\n",
       "      <th></th>\n",
       "      <th>children</th>\n",
       "      <th>days_employed</th>\n",
       "      <th>dob_years</th>\n",
       "      <th>education_id</th>\n",
       "      <th>family_status_id</th>\n",
       "      <th>gender</th>\n",
       "      <th>income_type</th>\n",
       "      <th>debt</th>\n",
       "      <th>total_income</th>\n",
       "      <th>purpose</th>\n",
       "      <th>total_income_category</th>\n",
       "    </tr>\n",
       "  </thead>\n",
       "  <tbody>\n",
       "    <tr>\n",
       "      <th>0</th>\n",
       "      <td>1</td>\n",
       "      <td>8437.673028</td>\n",
       "      <td>42</td>\n",
       "      <td>0</td>\n",
       "      <td>0</td>\n",
       "      <td>F</td>\n",
       "      <td>сотрудник</td>\n",
       "      <td>0</td>\n",
       "      <td>253875</td>\n",
       "      <td>покупка жилья</td>\n",
       "      <td>B</td>\n",
       "    </tr>\n",
       "    <tr>\n",
       "      <th>1</th>\n",
       "      <td>1</td>\n",
       "      <td>4024.803754</td>\n",
       "      <td>36</td>\n",
       "      <td>1</td>\n",
       "      <td>0</td>\n",
       "      <td>F</td>\n",
       "      <td>сотрудник</td>\n",
       "      <td>0</td>\n",
       "      <td>112080</td>\n",
       "      <td>приобретение автомобиля</td>\n",
       "      <td>C</td>\n",
       "    </tr>\n",
       "    <tr>\n",
       "      <th>2</th>\n",
       "      <td>0</td>\n",
       "      <td>5623.422610</td>\n",
       "      <td>33</td>\n",
       "      <td>1</td>\n",
       "      <td>0</td>\n",
       "      <td>M</td>\n",
       "      <td>сотрудник</td>\n",
       "      <td>0</td>\n",
       "      <td>145885</td>\n",
       "      <td>покупка жилья</td>\n",
       "      <td>C</td>\n",
       "    </tr>\n",
       "    <tr>\n",
       "      <th>3</th>\n",
       "      <td>3</td>\n",
       "      <td>4124.747207</td>\n",
       "      <td>32</td>\n",
       "      <td>1</td>\n",
       "      <td>0</td>\n",
       "      <td>M</td>\n",
       "      <td>сотрудник</td>\n",
       "      <td>0</td>\n",
       "      <td>267628</td>\n",
       "      <td>дополнительное образование</td>\n",
       "      <td>B</td>\n",
       "    </tr>\n",
       "    <tr>\n",
       "      <th>4</th>\n",
       "      <td>0</td>\n",
       "      <td>1630.019381</td>\n",
       "      <td>53</td>\n",
       "      <td>1</td>\n",
       "      <td>1</td>\n",
       "      <td>F</td>\n",
       "      <td>пенсионер</td>\n",
       "      <td>0</td>\n",
       "      <td>158616</td>\n",
       "      <td>сыграть свадьбу</td>\n",
       "      <td>C</td>\n",
       "    </tr>\n",
       "  </tbody>\n",
       "</table>\n",
       "</div>"
      ],
      "text/plain": [
       "   children  days_employed  dob_years  education_id  family_status_id gender  \\\n",
       "0         1    8437.673028         42             0                 0      F   \n",
       "1         1    4024.803754         36             1                 0      F   \n",
       "2         0    5623.422610         33             1                 0      M   \n",
       "3         3    4124.747207         32             1                 0      M   \n",
       "4         0    1630.019381         53             1                 1      F   \n",
       "\n",
       "  income_type  debt  total_income                     purpose  \\\n",
       "0   сотрудник     0        253875               покупка жилья   \n",
       "1   сотрудник     0        112080     приобретение автомобиля   \n",
       "2   сотрудник     0        145885               покупка жилья   \n",
       "3   сотрудник     0        267628  дополнительное образование   \n",
       "4   пенсионер     0        158616             сыграть свадьбу   \n",
       "\n",
       "  total_income_category  \n",
       "0                     B  \n",
       "1                     C  \n",
       "2                     C  \n",
       "3                     B  \n",
       "4                     C  "
      ]
     },
     "execution_count": 29,
     "metadata": {},
     "output_type": "execute_result"
    }
   ],
   "source": [
    "df.head(5)"
   ]
  },
  {
   "cell_type": "markdown",
   "id": "29004212-4c34-4277-a896-d2f58af2fc0b",
   "metadata": {},
   "source": [
    "Функция работает исправно и верно присваивает категории по уровню дохода. Перейдём к категоризации целей кредита.\n",
    "\n",
    "Выведем все уникальные значения столбца `purpose`:"
   ]
  },
  {
   "cell_type": "code",
   "execution_count": 30,
   "id": "1e9dd631-db10-45a0-b5a5-9a6ffeeae292",
   "metadata": {},
   "outputs": [
    {
     "data": {
      "text/plain": [
       "array(['покупка жилья', 'приобретение автомобиля',\n",
       "       'дополнительное образование', 'сыграть свадьбу',\n",
       "       'операции с жильем', 'образование', 'на проведение свадьбы',\n",
       "       'покупка жилья для семьи', 'покупка недвижимости',\n",
       "       'покупка коммерческой недвижимости', 'покупка жилой недвижимости',\n",
       "       'строительство собственной недвижимости', 'недвижимость',\n",
       "       'строительство недвижимости', 'на покупку подержанного автомобиля',\n",
       "       'на покупку своего автомобиля',\n",
       "       'операции с коммерческой недвижимостью',\n",
       "       'строительство жилой недвижимости', 'жилье',\n",
       "       'операции со своей недвижимостью', 'автомобили',\n",
       "       'заняться образованием', 'сделка с подержанным автомобилем',\n",
       "       'получение образования', 'автомобиль', 'свадьба',\n",
       "       'получение дополнительного образования', 'покупка своего жилья',\n",
       "       'операции с недвижимостью', 'получение высшего образования',\n",
       "       'свой автомобиль', 'сделка с автомобилем',\n",
       "       'профильное образование', 'высшее образование',\n",
       "       'покупка жилья для сдачи', 'на покупку автомобиля', 'ремонт жилью',\n",
       "       'заняться высшим образованием'], dtype=object)"
      ]
     },
     "execution_count": 30,
     "metadata": {},
     "output_type": "execute_result"
    }
   ],
   "source": [
    "df.purpose.unique()"
   ]
  },
  {
   "cell_type": "markdown",
   "id": "fc1a9393-8b4e-42b4-8c53-69b924eef47a",
   "metadata": {},
   "source": [
    "Заметим, что все цели можно легко сгруппировать по категориям:\n",
    "- операции с автомобилем\n",
    "- операции с недвижимостью\n",
    "- проведение свадьбы\n",
    "- получение образования\n",
    "\n",
    "В каждом уникальном значении имеются некоторые одинаковые подстроки, на основе которых мы и будем проводить поиск значений. Напишем функцию, которая будет присваивать определённую категорию клиенту в зависимости от наличия той или иной подстроки в цели кредита:\n",
    "- \"операции с автомобилем\" при наличии подстроки \"автомобил\"\n",
    "- \"операции с недвижимостью\" при наличии подстроки \"жиль\" или \"недвижимост\"\n",
    "- \"проведение свадьбы\" при наличии подстроки \"свадьб\"\n",
    "- \"получения образования\" при наличии подстроки \"образован\"\n",
    "- \"категория не определена\", если ни одна из указанных подстрок не была найдена\n",
    "\n",
    "Применим эту функцию к столбцу `purpose`, создав новый столбец `purpose_category` в таблице:"
   ]
  },
  {
   "cell_type": "code",
   "execution_count": 31,
   "id": "da835863-187c-4aca-99cf-0a24bba1083e",
   "metadata": {},
   "outputs": [],
   "source": [
    "def set_purpose_category(purpose):\n",
    "    try:\n",
    "        if (purpose.find('автомобил')) != -1:\n",
    "            return 'операции с автомобилем'\n",
    "        elif ((purpose.find('жиль') != -1)) | ((purpose.find('недвижимост') != -1)):\n",
    "            return 'операции с недвижимостью'\n",
    "        elif (purpose.find('свадьб') != -1):\n",
    "            return 'проведение свадьбы'\n",
    "        elif (purpose.find('образован') != -1):\n",
    "            return 'получение образования'\n",
    "        else:\n",
    "            return 'категория не определена'\n",
    "    except:\n",
    "        print('Некорректное значение пропущено')"
   ]
  },
  {
   "cell_type": "code",
   "execution_count": 32,
   "id": "311049e7-26d5-4ada-b3a8-cf056a629f34",
   "metadata": {},
   "outputs": [
    {
     "data": {
      "text/html": [
       "<div>\n",
       "<style scoped>\n",
       "    .dataframe tbody tr th:only-of-type {\n",
       "        vertical-align: middle;\n",
       "    }\n",
       "\n",
       "    .dataframe tbody tr th {\n",
       "        vertical-align: top;\n",
       "    }\n",
       "\n",
       "    .dataframe thead th {\n",
       "        text-align: right;\n",
       "    }\n",
       "</style>\n",
       "<table border=\"1\" class=\"dataframe\">\n",
       "  <thead>\n",
       "    <tr style=\"text-align: right;\">\n",
       "      <th></th>\n",
       "      <th>children</th>\n",
       "      <th>days_employed</th>\n",
       "      <th>dob_years</th>\n",
       "      <th>education_id</th>\n",
       "      <th>family_status_id</th>\n",
       "      <th>gender</th>\n",
       "      <th>income_type</th>\n",
       "      <th>debt</th>\n",
       "      <th>total_income</th>\n",
       "      <th>purpose</th>\n",
       "      <th>total_income_category</th>\n",
       "      <th>purpose_category</th>\n",
       "    </tr>\n",
       "  </thead>\n",
       "  <tbody>\n",
       "    <tr>\n",
       "      <th>0</th>\n",
       "      <td>1</td>\n",
       "      <td>8437.673028</td>\n",
       "      <td>42</td>\n",
       "      <td>0</td>\n",
       "      <td>0</td>\n",
       "      <td>F</td>\n",
       "      <td>сотрудник</td>\n",
       "      <td>0</td>\n",
       "      <td>253875</td>\n",
       "      <td>покупка жилья</td>\n",
       "      <td>B</td>\n",
       "      <td>операции с недвижимостью</td>\n",
       "    </tr>\n",
       "    <tr>\n",
       "      <th>1</th>\n",
       "      <td>1</td>\n",
       "      <td>4024.803754</td>\n",
       "      <td>36</td>\n",
       "      <td>1</td>\n",
       "      <td>0</td>\n",
       "      <td>F</td>\n",
       "      <td>сотрудник</td>\n",
       "      <td>0</td>\n",
       "      <td>112080</td>\n",
       "      <td>приобретение автомобиля</td>\n",
       "      <td>C</td>\n",
       "      <td>операции с автомобилем</td>\n",
       "    </tr>\n",
       "    <tr>\n",
       "      <th>2</th>\n",
       "      <td>0</td>\n",
       "      <td>5623.422610</td>\n",
       "      <td>33</td>\n",
       "      <td>1</td>\n",
       "      <td>0</td>\n",
       "      <td>M</td>\n",
       "      <td>сотрудник</td>\n",
       "      <td>0</td>\n",
       "      <td>145885</td>\n",
       "      <td>покупка жилья</td>\n",
       "      <td>C</td>\n",
       "      <td>операции с недвижимостью</td>\n",
       "    </tr>\n",
       "    <tr>\n",
       "      <th>3</th>\n",
       "      <td>3</td>\n",
       "      <td>4124.747207</td>\n",
       "      <td>32</td>\n",
       "      <td>1</td>\n",
       "      <td>0</td>\n",
       "      <td>M</td>\n",
       "      <td>сотрудник</td>\n",
       "      <td>0</td>\n",
       "      <td>267628</td>\n",
       "      <td>дополнительное образование</td>\n",
       "      <td>B</td>\n",
       "      <td>получение образования</td>\n",
       "    </tr>\n",
       "    <tr>\n",
       "      <th>4</th>\n",
       "      <td>0</td>\n",
       "      <td>1630.019381</td>\n",
       "      <td>53</td>\n",
       "      <td>1</td>\n",
       "      <td>1</td>\n",
       "      <td>F</td>\n",
       "      <td>пенсионер</td>\n",
       "      <td>0</td>\n",
       "      <td>158616</td>\n",
       "      <td>сыграть свадьбу</td>\n",
       "      <td>C</td>\n",
       "      <td>проведение свадьбы</td>\n",
       "    </tr>\n",
       "  </tbody>\n",
       "</table>\n",
       "</div>"
      ],
      "text/plain": [
       "   children  days_employed  dob_years  education_id  family_status_id gender  \\\n",
       "0         1    8437.673028         42             0                 0      F   \n",
       "1         1    4024.803754         36             1                 0      F   \n",
       "2         0    5623.422610         33             1                 0      M   \n",
       "3         3    4124.747207         32             1                 0      M   \n",
       "4         0    1630.019381         53             1                 1      F   \n",
       "\n",
       "  income_type  debt  total_income                     purpose  \\\n",
       "0   сотрудник     0        253875               покупка жилья   \n",
       "1   сотрудник     0        112080     приобретение автомобиля   \n",
       "2   сотрудник     0        145885               покупка жилья   \n",
       "3   сотрудник     0        267628  дополнительное образование   \n",
       "4   пенсионер     0        158616             сыграть свадьбу   \n",
       "\n",
       "  total_income_category          purpose_category  \n",
       "0                     B  операции с недвижимостью  \n",
       "1                     C    операции с автомобилем  \n",
       "2                     C  операции с недвижимостью  \n",
       "3                     B     получение образования  \n",
       "4                     C        проведение свадьбы  "
      ]
     },
     "execution_count": 32,
     "metadata": {},
     "output_type": "execute_result"
    }
   ],
   "source": [
    "df['purpose_category'] = df.purpose.apply(set_purpose_category)\n",
    "df.head(5)"
   ]
  },
  {
   "cell_type": "markdown",
   "id": "d9859625-9221-42eb-99ab-a34d5255ff98",
   "metadata": {},
   "source": [
    "Как видим, функция работает исправно и верно присваивает категории в зависимости от цели кредита.\n",
    "\n",
    "Проверим также, были ли случаи, когда категория не определилась, выведя все уникальные значения столбца `purpose_category`:"
   ]
  },
  {
   "cell_type": "code",
   "execution_count": 33,
   "id": "9fed6ca9-e41d-4794-96a3-dfeadc337816",
   "metadata": {},
   "outputs": [
    {
     "data": {
      "text/plain": [
       "array(['операции с недвижимостью', 'операции с автомобилем',\n",
       "       'получение образования', 'проведение свадьбы'], dtype=object)"
      ]
     },
     "execution_count": 33,
     "metadata": {},
     "output_type": "execute_result"
    }
   ],
   "source": [
    "df['purpose_category'].unique()"
   ]
  },
  {
   "cell_type": "markdown",
   "id": "826e1e86-4537-4103-a380-0ba7ee987aa9",
   "metadata": {},
   "source": [
    "Среди категорий есть лишь 4 необходимых, а значит проблем с присваиванием не возникло."
   ]
  },
  {
   "cell_type": "code",
   "execution_count": 34,
   "id": "3ca302f9-4761-4b5b-af1c-3e9e3ac35a0b",
   "metadata": {
    "scrolled": true
   },
   "outputs": [
    {
     "data": {
      "text/html": [
       "<div>\n",
       "<style scoped>\n",
       "    .dataframe tbody tr th:only-of-type {\n",
       "        vertical-align: middle;\n",
       "    }\n",
       "\n",
       "    .dataframe tbody tr th {\n",
       "        vertical-align: top;\n",
       "    }\n",
       "\n",
       "    .dataframe thead th {\n",
       "        text-align: right;\n",
       "    }\n",
       "</style>\n",
       "<table border=\"1\" class=\"dataframe\">\n",
       "  <thead>\n",
       "    <tr style=\"text-align: right;\">\n",
       "      <th></th>\n",
       "      <th>children</th>\n",
       "      <th>days_employed</th>\n",
       "      <th>dob_years</th>\n",
       "      <th>education_id</th>\n",
       "      <th>family_status_id</th>\n",
       "      <th>gender</th>\n",
       "      <th>income_type</th>\n",
       "      <th>debt</th>\n",
       "      <th>total_income</th>\n",
       "      <th>purpose</th>\n",
       "      <th>total_income_category</th>\n",
       "      <th>purpose_category</th>\n",
       "    </tr>\n",
       "  </thead>\n",
       "  <tbody>\n",
       "    <tr>\n",
       "      <th>0</th>\n",
       "      <td>1</td>\n",
       "      <td>8437.673028</td>\n",
       "      <td>42</td>\n",
       "      <td>0</td>\n",
       "      <td>0</td>\n",
       "      <td>F</td>\n",
       "      <td>сотрудник</td>\n",
       "      <td>0</td>\n",
       "      <td>253875</td>\n",
       "      <td>покупка жилья</td>\n",
       "      <td>B</td>\n",
       "      <td>операции с недвижимостью</td>\n",
       "    </tr>\n",
       "    <tr>\n",
       "      <th>1</th>\n",
       "      <td>1</td>\n",
       "      <td>4024.803754</td>\n",
       "      <td>36</td>\n",
       "      <td>1</td>\n",
       "      <td>0</td>\n",
       "      <td>F</td>\n",
       "      <td>сотрудник</td>\n",
       "      <td>0</td>\n",
       "      <td>112080</td>\n",
       "      <td>приобретение автомобиля</td>\n",
       "      <td>C</td>\n",
       "      <td>операции с автомобилем</td>\n",
       "    </tr>\n",
       "    <tr>\n",
       "      <th>2</th>\n",
       "      <td>0</td>\n",
       "      <td>5623.422610</td>\n",
       "      <td>33</td>\n",
       "      <td>1</td>\n",
       "      <td>0</td>\n",
       "      <td>M</td>\n",
       "      <td>сотрудник</td>\n",
       "      <td>0</td>\n",
       "      <td>145885</td>\n",
       "      <td>покупка жилья</td>\n",
       "      <td>C</td>\n",
       "      <td>операции с недвижимостью</td>\n",
       "    </tr>\n",
       "    <tr>\n",
       "      <th>3</th>\n",
       "      <td>3</td>\n",
       "      <td>4124.747207</td>\n",
       "      <td>32</td>\n",
       "      <td>1</td>\n",
       "      <td>0</td>\n",
       "      <td>M</td>\n",
       "      <td>сотрудник</td>\n",
       "      <td>0</td>\n",
       "      <td>267628</td>\n",
       "      <td>дополнительное образование</td>\n",
       "      <td>B</td>\n",
       "      <td>получение образования</td>\n",
       "    </tr>\n",
       "    <tr>\n",
       "      <th>4</th>\n",
       "      <td>0</td>\n",
       "      <td>1630.019381</td>\n",
       "      <td>53</td>\n",
       "      <td>1</td>\n",
       "      <td>1</td>\n",
       "      <td>F</td>\n",
       "      <td>пенсионер</td>\n",
       "      <td>0</td>\n",
       "      <td>158616</td>\n",
       "      <td>сыграть свадьбу</td>\n",
       "      <td>C</td>\n",
       "      <td>проведение свадьбы</td>\n",
       "    </tr>\n",
       "  </tbody>\n",
       "</table>\n",
       "</div>"
      ],
      "text/plain": [
       "   children  days_employed  dob_years  education_id  family_status_id gender  \\\n",
       "0         1    8437.673028         42             0                 0      F   \n",
       "1         1    4024.803754         36             1                 0      F   \n",
       "2         0    5623.422610         33             1                 0      M   \n",
       "3         3    4124.747207         32             1                 0      M   \n",
       "4         0    1630.019381         53             1                 1      F   \n",
       "\n",
       "  income_type  debt  total_income                     purpose  \\\n",
       "0   сотрудник     0        253875               покупка жилья   \n",
       "1   сотрудник     0        112080     приобретение автомобиля   \n",
       "2   сотрудник     0        145885               покупка жилья   \n",
       "3   сотрудник     0        267628  дополнительное образование   \n",
       "4   пенсионер     0        158616             сыграть свадьбу   \n",
       "\n",
       "  total_income_category          purpose_category  \n",
       "0                     B  операции с недвижимостью  \n",
       "1                     C    операции с автомобилем  \n",
       "2                     C  операции с недвижимостью  \n",
       "3                     B     получение образования  \n",
       "4                     C        проведение свадьбы  "
      ]
     },
     "execution_count": 34,
     "metadata": {},
     "output_type": "execute_result"
    }
   ],
   "source": [
    "df.head(5)"
   ]
  },
  {
   "cell_type": "markdown",
   "id": "2ab5dc1d-1419-4322-b8f2-ecf67eb5f7e8",
   "metadata": {},
   "source": [
    "# 3. Анализ полученных данных"
   ]
  },
  {
   "cell_type": "markdown",
   "id": "6854832f-789a-43f1-afdc-bed9972ec45d",
   "metadata": {},
   "source": [
    "Предобработка данных завершена, теперь можно переходить к ответу на вопросы исследования.\n",
    "\n",
    "## Первый вопрос: **Есть ли зависимость между количеством детей и возвратом кредита в срок?**\n",
    "\n",
    "Составим сводную таблицу: сгруппируем по количеству детей, выведем количество задолженностей, общее количество таких клиентов и долю задолженностей:"
   ]
  },
  {
   "cell_type": "code",
   "execution_count": 35,
   "id": "fabfa1ae-d873-4c0b-b3ba-b98c571dcf15",
   "metadata": {},
   "outputs": [
    {
     "data": {
      "text/html": [
       "<div>\n",
       "<style scoped>\n",
       "    .dataframe tbody tr th:only-of-type {\n",
       "        vertical-align: middle;\n",
       "    }\n",
       "\n",
       "    .dataframe tbody tr th {\n",
       "        vertical-align: top;\n",
       "    }\n",
       "\n",
       "    .dataframe thead tr th {\n",
       "        text-align: left;\n",
       "    }\n",
       "\n",
       "    .dataframe thead tr:last-of-type th {\n",
       "        text-align: right;\n",
       "    }\n",
       "</style>\n",
       "<table border=\"1\" class=\"dataframe\">\n",
       "  <thead>\n",
       "    <tr>\n",
       "      <th></th>\n",
       "      <th>sum</th>\n",
       "      <th>count</th>\n",
       "      <th>mean</th>\n",
       "    </tr>\n",
       "    <tr>\n",
       "      <th></th>\n",
       "      <th>debt</th>\n",
       "      <th>debt</th>\n",
       "      <th>debt</th>\n",
       "    </tr>\n",
       "    <tr>\n",
       "      <th>children</th>\n",
       "      <th></th>\n",
       "      <th></th>\n",
       "      <th></th>\n",
       "    </tr>\n",
       "  </thead>\n",
       "  <tbody>\n",
       "    <tr>\n",
       "      <th>0</th>\n",
       "      <td>1071</td>\n",
       "      <td>14183</td>\n",
       "      <td>0.075513</td>\n",
       "    </tr>\n",
       "    <tr>\n",
       "      <th>1</th>\n",
       "      <td>445</td>\n",
       "      <td>4856</td>\n",
       "      <td>0.091639</td>\n",
       "    </tr>\n",
       "    <tr>\n",
       "      <th>2</th>\n",
       "      <td>194</td>\n",
       "      <td>2052</td>\n",
       "      <td>0.094542</td>\n",
       "    </tr>\n",
       "    <tr>\n",
       "      <th>3</th>\n",
       "      <td>27</td>\n",
       "      <td>330</td>\n",
       "      <td>0.081818</td>\n",
       "    </tr>\n",
       "    <tr>\n",
       "      <th>4</th>\n",
       "      <td>4</td>\n",
       "      <td>41</td>\n",
       "      <td>0.097561</td>\n",
       "    </tr>\n",
       "    <tr>\n",
       "      <th>5</th>\n",
       "      <td>0</td>\n",
       "      <td>9</td>\n",
       "      <td>0.000000</td>\n",
       "    </tr>\n",
       "  </tbody>\n",
       "</table>\n",
       "</div>"
      ],
      "text/plain": [
       "           sum  count      mean\n",
       "          debt   debt      debt\n",
       "children                       \n",
       "0         1071  14183  0.075513\n",
       "1          445   4856  0.091639\n",
       "2          194   2052  0.094542\n",
       "3           27    330  0.081818\n",
       "4            4     41  0.097561\n",
       "5            0      9  0.000000"
      ]
     },
     "metadata": {},
     "output_type": "display_data"
    }
   ],
   "source": [
    "display(df.pivot_table(values='debt', aggfunc=['sum', 'count', 'mean'], index='children'))"
   ]
  },
  {
   "cell_type": "markdown",
   "id": "51f36386-0619-4634-a97f-f59607ae9a67",
   "metadata": {},
   "source": [
    "Из имеющихся данных можно сделать вывод, что зависимость между количеством детей и возвратом кредита в срок следующая:\n",
    "- доля задолженностей увеличивается от 0 к 2 детям\n",
    "- при 3 детях доля ниже, однако выборка гораздо меньше, что является критичным для составления объективного анализа\n",
    "- большее количество детей имеет ещё более низкую выборку, отчего делать какие-то выводы нельзя, так как результат может быть искажён случайным разбросом\n",
    "- случаев, когда клиент с пятью детьми не выплатил кредит в срок, не было\n",
    "    - однако это не указывает на надёжность таких клиентов, т.к. всего клиентов с 5 детьми было 9 штук, что недостаточно для составления какой-либо объективной статистики"
   ]
  },
  {
   "cell_type": "markdown",
   "id": "bf1e0c4d-07b4-4995-9bdc-2b7b9d6521b6",
   "metadata": {},
   "source": [
    "## Второй вопрос: **Есть ли зависимость между семейным положением и возвратом кредита в срок?**\n",
    "\n",
    "Составим сводную таблицу: сгруппируем по семейному статусу, выведем количество задолженностей, общее количество таких клиентов и долю задолженностей:"
   ]
  },
  {
   "cell_type": "code",
   "execution_count": 36,
   "id": "53402d69-f08a-453b-847e-bd98319dc191",
   "metadata": {},
   "outputs": [
    {
     "data": {
      "text/html": [
       "<div>\n",
       "<style scoped>\n",
       "    .dataframe tbody tr th:only-of-type {\n",
       "        vertical-align: middle;\n",
       "    }\n",
       "\n",
       "    .dataframe tbody tr th {\n",
       "        vertical-align: top;\n",
       "    }\n",
       "\n",
       "    .dataframe thead tr th {\n",
       "        text-align: left;\n",
       "    }\n",
       "\n",
       "    .dataframe thead tr:last-of-type th {\n",
       "        text-align: right;\n",
       "    }\n",
       "</style>\n",
       "<table border=\"1\" class=\"dataframe\">\n",
       "  <thead>\n",
       "    <tr>\n",
       "      <th></th>\n",
       "      <th>sum</th>\n",
       "      <th>count</th>\n",
       "      <th>mean</th>\n",
       "    </tr>\n",
       "    <tr>\n",
       "      <th></th>\n",
       "      <th>debt</th>\n",
       "      <th>debt</th>\n",
       "      <th>debt</th>\n",
       "    </tr>\n",
       "    <tr>\n",
       "      <th>family_status_id</th>\n",
       "      <th></th>\n",
       "      <th></th>\n",
       "      <th></th>\n",
       "    </tr>\n",
       "  </thead>\n",
       "  <tbody>\n",
       "    <tr>\n",
       "      <th>0</th>\n",
       "      <td>931</td>\n",
       "      <td>12344</td>\n",
       "      <td>0.075421</td>\n",
       "    </tr>\n",
       "    <tr>\n",
       "      <th>1</th>\n",
       "      <td>388</td>\n",
       "      <td>4163</td>\n",
       "      <td>0.093202</td>\n",
       "    </tr>\n",
       "    <tr>\n",
       "      <th>2</th>\n",
       "      <td>63</td>\n",
       "      <td>959</td>\n",
       "      <td>0.065693</td>\n",
       "    </tr>\n",
       "    <tr>\n",
       "      <th>3</th>\n",
       "      <td>85</td>\n",
       "      <td>1195</td>\n",
       "      <td>0.071130</td>\n",
       "    </tr>\n",
       "    <tr>\n",
       "      <th>4</th>\n",
       "      <td>274</td>\n",
       "      <td>2810</td>\n",
       "      <td>0.097509</td>\n",
       "    </tr>\n",
       "  </tbody>\n",
       "</table>\n",
       "</div>"
      ],
      "text/plain": [
       "                  sum  count      mean\n",
       "                 debt   debt      debt\n",
       "family_status_id                      \n",
       "0                 931  12344  0.075421\n",
       "1                 388   4163  0.093202\n",
       "2                  63    959  0.065693\n",
       "3                  85   1195  0.071130\n",
       "4                 274   2810  0.097509"
      ]
     },
     "metadata": {},
     "output_type": "display_data"
    }
   ],
   "source": [
    "display(df.pivot_table(values='debt', aggfunc=['sum', 'count', 'mean'], index='family_status_id'))"
   ]
  },
  {
   "cell_type": "markdown",
   "id": "22a826f5-46b7-4b04-b857-f7e53b914b52",
   "metadata": {},
   "source": [
    "Из документации:\n",
    "- 0: 'женат / замужем'\n",
    "- 1: 'гражданский брак'\n",
    "- 2: 'вдовец / вдова'\n",
    "- 3: 'в разводе'\n",
    "- 4: 'Не женат / не замужем'\n",
    "\n",
    "Исходя из имеющихся данных, можно сказать, что:\n",
    "- одинаковый риск имеют группы состоящих в официальном браке и разведённых\n",
    "- наиболее высокий риск имеют группы состоящих в гражданском браке и тех, кто в браке не состоял\n",
    "- вдовцы и вдовы имеют наименьший риск, однако они имеют наименьшую (хоть и значительную) выборку\n",
    "\n",
    "Вывод: возврат кредита в срок зависит от семейного положения: группа 2 обладает наименьшим риском, риск возрастает у групп 0 и 3 и становится максимальным у групп 1 и 4."
   ]
  },
  {
   "cell_type": "markdown",
   "id": "e562fc81-65f2-45b3-8d51-61785936a992",
   "metadata": {},
   "source": [
    "## Третий вопрос: **Есть ли зависимость между уровнем дохода и возвратом кредита в срок?**\n",
    "\n",
    "Составим сводную таблицу: сгруппируем по категориям дохода, выведем количество задолженностей, общее количество таких клиентов и долю задолженностей:"
   ]
  },
  {
   "cell_type": "code",
   "execution_count": 37,
   "id": "862574fe-3f0c-4fba-80ce-281c7c3eecbe",
   "metadata": {},
   "outputs": [
    {
     "data": {
      "text/html": [
       "<div>\n",
       "<style scoped>\n",
       "    .dataframe tbody tr th:only-of-type {\n",
       "        vertical-align: middle;\n",
       "    }\n",
       "\n",
       "    .dataframe tbody tr th {\n",
       "        vertical-align: top;\n",
       "    }\n",
       "\n",
       "    .dataframe thead tr th {\n",
       "        text-align: left;\n",
       "    }\n",
       "\n",
       "    .dataframe thead tr:last-of-type th {\n",
       "        text-align: right;\n",
       "    }\n",
       "</style>\n",
       "<table border=\"1\" class=\"dataframe\">\n",
       "  <thead>\n",
       "    <tr>\n",
       "      <th></th>\n",
       "      <th>sum</th>\n",
       "      <th>count</th>\n",
       "      <th>mean</th>\n",
       "    </tr>\n",
       "    <tr>\n",
       "      <th></th>\n",
       "      <th>debt</th>\n",
       "      <th>debt</th>\n",
       "      <th>debt</th>\n",
       "    </tr>\n",
       "    <tr>\n",
       "      <th>total_income_category</th>\n",
       "      <th></th>\n",
       "      <th></th>\n",
       "      <th></th>\n",
       "    </tr>\n",
       "  </thead>\n",
       "  <tbody>\n",
       "    <tr>\n",
       "      <th>A</th>\n",
       "      <td>2</td>\n",
       "      <td>25</td>\n",
       "      <td>0.080000</td>\n",
       "    </tr>\n",
       "    <tr>\n",
       "      <th>B</th>\n",
       "      <td>356</td>\n",
       "      <td>5041</td>\n",
       "      <td>0.070621</td>\n",
       "    </tr>\n",
       "    <tr>\n",
       "      <th>C</th>\n",
       "      <td>1360</td>\n",
       "      <td>16033</td>\n",
       "      <td>0.084825</td>\n",
       "    </tr>\n",
       "    <tr>\n",
       "      <th>D</th>\n",
       "      <td>21</td>\n",
       "      <td>350</td>\n",
       "      <td>0.060000</td>\n",
       "    </tr>\n",
       "    <tr>\n",
       "      <th>E</th>\n",
       "      <td>2</td>\n",
       "      <td>22</td>\n",
       "      <td>0.090909</td>\n",
       "    </tr>\n",
       "  </tbody>\n",
       "</table>\n",
       "</div>"
      ],
      "text/plain": [
       "                        sum  count      mean\n",
       "                       debt   debt      debt\n",
       "total_income_category                       \n",
       "A                         2     25  0.080000\n",
       "B                       356   5041  0.070621\n",
       "C                      1360  16033  0.084825\n",
       "D                        21    350  0.060000\n",
       "E                         2     22  0.090909"
      ]
     },
     "metadata": {},
     "output_type": "display_data"
    }
   ],
   "source": [
    "display(df.pivot_table(values='debt', aggfunc=['sum', 'count', 'mean'], index='total_income_category'))"
   ]
  },
  {
   "cell_type": "markdown",
   "id": "b1afa59a-f455-4582-b904-3f9fb90e2322",
   "metadata": {},
   "source": [
    "Заметим, что выборка у групп A и E крайне мала, отчего объективную оценку зависимости дать невозможно. Группа D также имеет небольшую выборку, однако её размер даёт возможность предположить зависимость.\n",
    "\n",
    "Итого, имеем:\n",
    "- группа C имеет наибольший риск\n",
    "- группа B, несмотря на меньший доход, нежели у группы C, более надёжная для банка\n",
    "- группа D среди всех групп наиболее надёжная, однако из-за не слишком большой выборки чёткие результаты давать нецелесообразно\n",
    "\n",
    "Вывод: возврат кредита в срок зависит от уровня дохода, но чёткую статистику можно дать только для двух групп - с увеличением уровня дохода от группы B до группы C наблюдаем интересную статистику - доля своевременных выплат уменьшается, несмотря на увеличение дохода."
   ]
  },
  {
   "cell_type": "markdown",
   "id": "ff328dd0-61e4-4687-ab07-1fba754966b8",
   "metadata": {},
   "source": [
    "## Третий вопрос: **Как разные цели кредита влияют на его возврат в срок?**\n",
    "\n",
    "Составим сводную таблицу: сгруппируем по целям кредита, выведем количество задолженностей, общее количество таких клиентов и долю задолженностей:"
   ]
  },
  {
   "cell_type": "code",
   "execution_count": 38,
   "id": "560bc484-0665-4f85-bdf9-d4e7886ed6aa",
   "metadata": {},
   "outputs": [
    {
     "data": {
      "text/html": [
       "<div>\n",
       "<style scoped>\n",
       "    .dataframe tbody tr th:only-of-type {\n",
       "        vertical-align: middle;\n",
       "    }\n",
       "\n",
       "    .dataframe tbody tr th {\n",
       "        vertical-align: top;\n",
       "    }\n",
       "\n",
       "    .dataframe thead tr th {\n",
       "        text-align: left;\n",
       "    }\n",
       "\n",
       "    .dataframe thead tr:last-of-type th {\n",
       "        text-align: right;\n",
       "    }\n",
       "</style>\n",
       "<table border=\"1\" class=\"dataframe\">\n",
       "  <thead>\n",
       "    <tr>\n",
       "      <th></th>\n",
       "      <th>sum</th>\n",
       "      <th>count</th>\n",
       "      <th>mean</th>\n",
       "    </tr>\n",
       "    <tr>\n",
       "      <th></th>\n",
       "      <th>debt</th>\n",
       "      <th>debt</th>\n",
       "      <th>debt</th>\n",
       "    </tr>\n",
       "    <tr>\n",
       "      <th>purpose_category</th>\n",
       "      <th></th>\n",
       "      <th></th>\n",
       "      <th></th>\n",
       "    </tr>\n",
       "  </thead>\n",
       "  <tbody>\n",
       "    <tr>\n",
       "      <th>операции с автомобилем</th>\n",
       "      <td>403</td>\n",
       "      <td>4308</td>\n",
       "      <td>0.093547</td>\n",
       "    </tr>\n",
       "    <tr>\n",
       "      <th>операции с недвижимостью</th>\n",
       "      <td>782</td>\n",
       "      <td>10814</td>\n",
       "      <td>0.072314</td>\n",
       "    </tr>\n",
       "    <tr>\n",
       "      <th>получение образования</th>\n",
       "      <td>370</td>\n",
       "      <td>4014</td>\n",
       "      <td>0.092177</td>\n",
       "    </tr>\n",
       "    <tr>\n",
       "      <th>проведение свадьбы</th>\n",
       "      <td>186</td>\n",
       "      <td>2335</td>\n",
       "      <td>0.079657</td>\n",
       "    </tr>\n",
       "  </tbody>\n",
       "</table>\n",
       "</div>"
      ],
      "text/plain": [
       "                          sum  count      mean\n",
       "                         debt   debt      debt\n",
       "purpose_category                              \n",
       "операции с автомобилем    403   4308  0.093547\n",
       "операции с недвижимостью  782  10814  0.072314\n",
       "получение образования     370   4014  0.092177\n",
       "проведение свадьбы        186   2335  0.079657"
      ]
     },
     "metadata": {},
     "output_type": "display_data"
    }
   ],
   "source": [
    "display(df.pivot_table(values='debt', aggfunc=['sum', 'count', 'mean'], index='purpose_category'))"
   ]
  },
  {
   "cell_type": "markdown",
   "id": "c7d84f0b-2b4c-4916-8dc8-055d203ce98b",
   "metadata": {},
   "source": [
    "Как видим, для каждой категории у нас есть достаточная выборка.\n",
    "\n",
    "Из полученных данных видим, что возврат зависит от категории; категории имеют попарно приблизительно одинаковый риск:\n",
    "- кредиты на операции с автомобилем и получение образования имеют долю невозврата приблизительно в 9 процентов\n",
    "- кредиты на операции с недвижимостью и проведение свадьбы имеют долю невозврата, колеблющуюся от 7 до ~8 процентов\n",
    "\n",
    "Из этого делаем вывод, что возврат кредита также зависит и от цели кредита."
   ]
  },
  {
   "cell_type": "markdown",
   "id": "b4c732f3-103c-4403-b455-c5ce810024bc",
   "metadata": {},
   "source": [
    "# Общий вывод"
   ]
  },
  {
   "cell_type": "markdown",
   "id": "aec33345-2471-4d48-9911-074d8e951106",
   "metadata": {},
   "source": [
    "Для каждого из вопросов была найдена зависимость:\n",
    "- от количества детей\n",
    "- от семейного положения\n",
    "- от дохода\n",
    "- от цели кредита\n",
    "\n",
    "Однако в каждом из случаев зависимость проявлялась не чётко - расхождения между долей невозвратов были в рамках нескольких процентов, отчего нельзя твёрдо и четко определить действительную зависимость. Такое расхождение может быть просто статистическим расхождением, которое зависит также от других данных клиента."
   ]
  }
 ],
 "metadata": {
  "kernelspec": {
   "display_name": "Python [conda env:base] *",
   "language": "python",
   "name": "conda-base-py"
  },
  "language_info": {
   "codemirror_mode": {
    "name": "ipython",
    "version": 3
   },
   "file_extension": ".py",
   "mimetype": "text/x-python",
   "name": "python",
   "nbconvert_exporter": "python",
   "pygments_lexer": "ipython3",
   "version": "3.12.7"
  }
 },
 "nbformat": 4,
 "nbformat_minor": 5
}
